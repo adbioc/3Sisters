{
 "cells": [
  {
   "cell_type": "code",
   "execution_count": 2,
   "id": "729a31fe-1636-4d34-9ecb-d6f7dc532db8",
   "metadata": {},
   "outputs": [],
   "source": [
    "import numpy as np \n",
    "#from numpy import arange\n",
    "import matplotlib.pyplot as plt\n",
    "from matplotlib import pyplot\n",
    "\n",
    "import time\n",
    "import matplotlib_venn as vn \n",
    "import pandas  as pd\n",
    "from pandas import read_csv\n",
    "import scipy  as scipy\n",
    "from scipy.optimize import curve_fit\n",
    "import datetime as dt\n",
    "# import maya"
   ]
  },
  {
   "cell_type": "code",
   "execution_count": null,
   "id": "459720f9-a69a-4744-8dfa-86ab89a3c45e",
   "metadata": {},
   "outputs": [],
   "source": [
    "df1=pd.read_csv('nov_15_22_2.csv')\n",
    "df2=pd.read_csv('nov_21_22_1.csv')\n",
    "df3=pd.read_csv('nov_25_22.csv')\n",
    "# def to_sec(x):\n",
    "#     return int(x[0]) * 3600 + int(x[1]) * 60 + int(x[2])\n",
    "\n",
    "df2.iloc[:,0]=[int(round(dt.datetime.strptime(i[:-6], '%Y-%m-%dT%H:%M:%S').timestamp())) for i in df2.iloc[:,0]]\n",
    "df1.iloc[:,0]=[int(round(dt.datetime.strptime(i[:-6], '%Y-%m-%dT%H:%M:%S').timestamp())) for i in df1.iloc[:,0]]\n",
    "df3.iloc[:,0]=[int(round(dt.datetime.strptime(i[:-6], '%Y-%m-%dT%H:%M:%S').timestamp())) for i in df3.iloc[:,0]]\n",
    "t1=df1.iloc[:,0]\n",
    "t2=df2.iloc[:,0]\n",
    "t3=df3.iloc[:,0]\n",
    "humid1=df1['humidity value']\n",
    "humid21=df2['field1']\n",
    "humid22=df2['field2']\n",
    "humid3=df3['Node2']\n",
    "plt.plot(t1[1000:]-t1[0],humid1[1000:])\n",
    "plt.show()\n",
    "plt.figure()\n",
    "plt.plot(t2-t2[0],humid21)\n",
    "plt.show()\n",
    "plt.figure()\n",
    "plt.plot(t2-t2[0],humid22)\n",
    "plt.show()\n"
   ]
  },
  {
   "cell_type": "code",
   "execution_count": null,
   "id": "59fc4d74-2129-4c36-975c-f19d36dd6c1f",
   "metadata": {},
   "outputs": [],
   "source": [
    "def func(x, q,a, b, c):\n",
    "    return a * np.exp(-b * x) + c * np.exp(-q * x)\n",
    "def scale(x, out_range=(0, 1)):\n",
    "    domain = np.min(x), np.max(x)\n",
    "    y = (x - (domain[1] + domain[0]) / 2) / (domain[1] - domain[0])\n",
    "    return y * (out_range[1] - out_range[0]) + (out_range[1] + out_range[0]) / 2"
   ]
  },
  {
   "cell_type": "code",
   "execution_count": null,
   "id": "adaf4faf-375e-45b1-8388-f02ba64e6506",
   "metadata": {},
   "outputs": [],
   "source": [
    "xdata= (t1[1000:]-t1[0])/max(t1)\n",
    "x = np.array(xdata.values.tolist())\n",
    "ydata=humid1[1000:]\n",
    "y=np.array(ydata.values.tolist())"
   ]
  },
  {
   "cell_type": "code",
   "execution_count": null,
   "id": "5f10df03-a478-4bb2-9c35-9d679b87e25a",
   "metadata": {},
   "outputs": [],
   "source": [
    "type(x)\n",
    "type(y)\n",
    "x=scale(x)\n",
    "y=scale(y)\n",
    "#plt.plot(x,y)\n",
    "#plt.show()\n",
    "popt, _ = curve_fit(func, x, y)\n",
    "q,a,b,c=popt\n",
    "#pyplot.scatter(x, y)\n",
    "plt.plot(x, y, c='green', lw=10, alpha=0.3, label=\"Lighten\")\n",
    "x_line = np.arange(min(x), max(x), 0.01)\n",
    "y_line = func(x_line, q,a, b, c)\n",
    "pyplot.plot(x_line, y_line, '--', color='red')\n",
    "pyplot.show()\n",
    "print(\"a * np.exp(-b * x) + c * np.exp(-q * x)\",\"\\n\")\n",
    "print(['q','a','b','c'],\"\\n\")\n",
    "print(popt)\n"
   ]
  }
 ],
 "metadata": {
  "kernelspec": {
   "display_name": "Python 3 (ipykernel)",
   "language": "python",
   "name": "python3"
  },
  "language_info": {
   "codemirror_mode": {
    "name": "ipython",
    "version": 3
   },
   "file_extension": ".py",
   "mimetype": "text/x-python",
   "name": "python",
   "nbconvert_exporter": "python",
   "pygments_lexer": "ipython3",
   "version": "3.8.13"
  }
 },
 "nbformat": 4,
 "nbformat_minor": 5
}
